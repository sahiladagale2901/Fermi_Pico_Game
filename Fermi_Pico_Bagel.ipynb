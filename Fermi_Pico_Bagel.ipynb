{
  "cells": [
    {
      "cell_type": "markdown",
      "metadata": {
        "id": "view-in-github",
        "colab_type": "text"
      },
      "source": [
        "<a href=\"https://colab.research.google.com/github/sahiladagale2901/Fermi_Pico_Game/blob/main/Fermi_Pico_Bagel.ipynb\" target=\"_parent\"><img src=\"https://colab.research.google.com/assets/colab-badge.svg\" alt=\"Open In Colab\"/></a>"
      ]
    },
    {
      "cell_type": "markdown",
      "id": "0b55c9a8",
      "metadata": {
        "id": "0b55c9a8"
      },
      "source": [
        "## Fermi Pico Bagel\n",
        "Try playing game and understand the rules : https://communicrossings.com/html/js/pfb.htm\n",
        "\n",
        "## Step 1\n",
        "Store any number in string format(number to be guessed by player) in a variable `original_number`.\n",
        "\n",
        "For Example: original_number = '123'\n"
      ]
    },
    {
      "cell_type": "code",
      "execution_count": 1,
      "id": "57a0a2d0",
      "metadata": {
        "id": "57a0a2d0"
      },
      "outputs": [],
      "source": [
        "## Your code goes here\n",
        "original_number ='123'"
      ]
    },
    {
      "cell_type": "markdown",
      "id": "fd43340c",
      "metadata": {
        "id": "fd43340c"
      },
      "source": [
        "## Step 2\n",
        "Take a number as user input and save it in a variable `guess_number`.(Make sure that the datatype of guess_number is same as of original number i.e- `str`)"
      ]
    },
    {
      "cell_type": "code",
      "execution_count": 4,
      "id": "2e0075a7",
      "metadata": {
        "colab": {
          "base_uri": "https://localhost:8080/"
        },
        "id": "2e0075a7",
        "outputId": "6d3231c9-8d1c-46c8-c886-f36c89a5ca30"
      },
      "outputs": [
        {
          "name": "stdout",
          "output_type": "stream",
          "text": [
            "enter a number 123\n"
          ]
        }
      ],
      "source": [
        "## Your code goes here\n",
        "guess_number = str(input('enter a number '))"
      ]
    },
    {
      "cell_type": "markdown",
      "id": "22318243",
      "metadata": {
        "id": "22318243"
      },
      "source": [
        "## Step 3\n",
        "Check if total number of digits in `original_number` and `guess_number` is not same(Use `len()` function) then ask user for valid input.(First use `len()` to get total digits in `original_number` and `guess_number`.)"
      ]
    },
    {
      "cell_type": "code",
      "execution_count": 3,
      "id": "258e2971",
      "metadata": {
        "colab": {
          "base_uri": "https://localhost:8080/"
        },
        "id": "258e2971",
        "outputId": "3da785fd-6aac-4075-daf4-c454c79c99b1"
      },
      "outputs": [
        {
          "output_type": "stream",
          "name": "stdout",
          "text": [
            "Plz enter the valid input\n"
          ]
        }
      ],
      "source": [
        "## Your code goes here\n",
        "if len(original_number) != len(guess_number):\n",
        "  print(\"Plz enter the valid input\")"
      ]
    },
    {
      "cell_type": "markdown",
      "id": "0c064bda",
      "metadata": {
        "id": "0c064bda"
      },
      "source": [
        "## Step 4\n",
        "Using `set()`, check if the digits are repeated in a `guess_number` .\n",
        "Note that datatype `set` allows unique values only.\n",
        "\n",
        "For ex. if `user_input`is 122, then it should print the string 'Duplicate number'  as digit 2 is repeated."
      ]
    },
    {
      "cell_type": "code",
      "execution_count": 5,
      "id": "7b5ef10d",
      "metadata": {
        "id": "7b5ef10d"
      },
      "outputs": [],
      "source": [
        "## Your code goes here\n",
        "\n",
        "if (len(set(guess_number)) != len(guess_number)):\n",
        "  print(\"Duplicate digit\")"
      ]
    },
    {
      "cell_type": "markdown",
      "id": "0514b8d9",
      "metadata": {
        "id": "0514b8d9"
      },
      "source": [
        "## Step 5\n",
        "Check winning condition i.e. if both `guess_number` and `original_number` are same, then print 'Fermi' as many number of times as number of digits in a number and print ' You win !! '.\n"
      ]
    },
    {
      "cell_type": "code",
      "execution_count": 7,
      "id": "ab9379a5",
      "metadata": {
        "colab": {
          "base_uri": "https://localhost:8080/"
        },
        "id": "ab9379a5",
        "outputId": "1cf39353-8a43-4620-9ba3-53f32df11d6e"
      },
      "outputs": [
        {
          "output_type": "stream",
          "name": "stdout",
          "text": [
            "Fermi Fermi Fermi \n",
            "You Win !!\n"
          ]
        }
      ],
      "source": [
        "## Your code goes here\n",
        "if(guess_number==original_number):\n",
        "  print(\"Fermi \"*len(original_number))\n",
        "  print(\"You Win !!\")"
      ]
    },
    {
      "cell_type": "markdown",
      "id": "96eca378",
      "metadata": {
        "id": "96eca378"
      },
      "source": [
        "## Step 6\n",
        "Create empty list called `output` where we will store the output in the form of list.\n",
        "\n",
        "For example: output = [ ' Fermi ', ' Pico ' ,' Pico ' ] ."
      ]
    },
    {
      "cell_type": "code",
      "execution_count": 8,
      "id": "c047a839",
      "metadata": {
        "id": "c047a839"
      },
      "outputs": [],
      "source": [
        "## Your code goes here\n",
        "output=[]\n"
      ]
    },
    {
      "cell_type": "markdown",
      "id": "4949309d",
      "metadata": {
        "id": "4949309d"
      },
      "source": [
        "## Step 7\n",
        "Check if any digit and it's position in both `guess_number` and `original_number` are same then append 'Fermi' to `output` list or if only digit matches and not the position then append 'Pico' to `output`.\n"
      ]
    },
    {
      "cell_type": "code",
      "execution_count": 9,
      "id": "7dbe3800",
      "metadata": {
        "id": "7dbe3800"
      },
      "outputs": [],
      "source": [
        "## Your code goes here\n",
        "for i in range(len(original_number)):\n",
        "  if(original_number[i]==guess_number[i]):\n",
        "    output.append(\"Fermi\")\n",
        "  elif(original_number[i] in guess_number):\n",
        "     output.append(\"Pico\")\n"
      ]
    },
    {
      "cell_type": "markdown",
      "id": "59e62457",
      "metadata": {
        "id": "59e62457"
      },
      "source": [
        "## Step 8\n",
        "Define a variable called `output_string` which has all values from a list `output` with each value separated by space. (Use 'for' loop to get all the values from a list `output`.)"
      ]
    },
    {
      "cell_type": "code",
      "execution_count": 10,
      "id": "d15c8f60",
      "metadata": {
        "id": "d15c8f60"
      },
      "outputs": [],
      "source": [
        "## Your code goes here\n",
        "output_string=\"\"\n",
        "for i in output:\n",
        "  output_string=output_string+i+\" \""
      ]
    },
    {
      "cell_type": "markdown",
      "id": "f3f50bef",
      "metadata": {
        "id": "f3f50bef"
      },
      "source": [
        "## Step 9\n",
        "Check if neither any digit nor any position matches i.e. if length of `output` list is zero then print `Bagel`.\n",
        "\n",
        "Otherwise print `output_string`."
      ]
    },
    {
      "cell_type": "code",
      "execution_count": 11,
      "id": "3c568356",
      "metadata": {
        "colab": {
          "base_uri": "https://localhost:8080/"
        },
        "id": "3c568356",
        "outputId": "73bb3f2b-5e2f-4698-bebc-a7221b9ce3ee"
      },
      "outputs": [
        {
          "output_type": "stream",
          "name": "stdout",
          "text": [
            "Fermi Fermi Fermi \n"
          ]
        }
      ],
      "source": [
        "## Your code goes here\n",
        "if(len(output)==0):\n",
        "  print(\"Bagel\")\n",
        "else:\n",
        "  print(output_string)"
      ]
    },
    {
      "cell_type": "markdown",
      "id": "9d4a684d",
      "metadata": {
        "id": "9d4a684d"
      },
      "source": [
        "## Step 10\n",
        "\n",
        "## Complete game\n",
        "Here use continue and break statements at appropriate places."
      ]
    },
    {
      "cell_type": "code",
      "execution_count": 17,
      "id": "79843cdf",
      "metadata": {
        "colab": {
          "base_uri": "https://localhost:8080/"
        },
        "id": "79843cdf",
        "outputId": "c521d468-eeef-4684-b89c-e556f8a87c07"
      },
      "outputs": [
        {
          "output_type": "stream",
          "name": "stdout",
          "text": [
            "567\n",
            "Fermi Pico Pico \n",
            "586\n",
            "Fermi Fermi \n",
            "576\n",
            "Fermi Fermi Fermi \n",
            "You Win !!\n"
          ]
        }
      ],
      "source": [
        "## step 1\n",
        "\n",
        "original_number ='576'\n",
        "\n",
        "## create infinite while loop\n",
        "\n",
        "while True:\n",
        "  ## step 2 and step 6\n",
        "  guess_number=str(input())\n",
        "  output=[]\n",
        "\n",
        "  ## step 3 and step 4 (use continue statement)\n",
        "  if len(original_number) != len(guess_number):\n",
        "    print(\"Plz enter the valid input\")\n",
        "  if (len(set(guess_number)) != len(guess_number)):\n",
        "    print(\"Duplicate digit\")\n",
        "    continue\n",
        "  ## step 5 (use break statement for winning condition)\n",
        "\n",
        "  if(guess_number==original_number):\n",
        "    print(\"Fermi \"*len(original_number))\n",
        "    print(\"You Win !!\")\n",
        "    break\n",
        "\n",
        "  ## step 7\n",
        "  for i in range(len(original_number)):\n",
        "    if(original_number[i]==guess_number[i]):\n",
        "      output.append(\"Fermi\")\n",
        "    elif(original_number[i] in guess_number):\n",
        "      output.append(\"Pico\")\n",
        "\n",
        "  ## step 8\n",
        "\n",
        "  output_string=\"\"\n",
        "  for i in output:\n",
        "    output_string=output_string+i+\" \"\n",
        "\n",
        "  ## step 9\n",
        "  if(len(output)==0):\n",
        "    print(\"Bagel\")\n",
        "  else:\n",
        "    print(output_string)\n",
        "\n",
        "\n",
        "\n"
      ]
    }
  ],
  "metadata": {
    "kernelspec": {
      "display_name": "Python 3",
      "language": "python",
      "name": "python3"
    },
    "language_info": {
      "codemirror_mode": {
        "name": "ipython",
        "version": 3
      },
      "file_extension": ".py",
      "mimetype": "text/x-python",
      "name": "python",
      "nbconvert_exporter": "python",
      "pygments_lexer": "ipython3",
      "version": "3.8.8"
    },
    "colab": {
      "provenance": [],
      "include_colab_link": true
    }
  },
  "nbformat": 4,
  "nbformat_minor": 5
}